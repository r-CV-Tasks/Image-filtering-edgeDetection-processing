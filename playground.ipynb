{
 "cells": [
  {
   "cell_type": "code",
   "execution_count": null,
   "metadata": {},
   "outputs": [],
   "source": [
    "import cv2\n",
    "import numpy as np\n",
    "import matplotlib.pyplot as plt\n",
    "%matplotlib inline"
   ]
  },
  {
   "cell_type": "code",
   "execution_count": null,
   "metadata": {},
   "outputs": [],
   "source": [
    "def map_ranges(inputValue: float, inMin: float, inMax: float, outMin: float, outMax: float):\n",
    "    \"\"\"\n",
    "    Map a given value from range 1 -> range 2\n",
    "    :param inputValue: The value you want to map\n",
    "    :param inMin: Minimum Value of Range 1\n",
    "    :param inMax: Maximum Value of Range 1\n",
    "    :param outMin: Minimum Value of Range 2\n",
    "    :param outMax: Maximum Value of Range 2\n",
    "    :return: The new Value in Range 2\n",
    "    \"\"\"\n",
    "    slope = (outMax - outMin) / (inMax - inMin)\n",
    "    return outMin + slope * (inputValue - inMin)\n",
    "\n",
    "def histogram(data: np.array, bins_num: int = 255):\n",
    "    \"\"\"\n",
    "\n",
    "    :param data:\n",
    "    :param bins_num:\n",
    "    :return:\n",
    "    \"\"\"\n",
    "    if bins_num == 2:\n",
    "        new_data = data\n",
    "    else:\n",
    "        new_data = np.round(np.interp(data, (data.min(), data.max()), (0, bins_num))).astype('uint8')\n",
    "    bins = np.arange(0, bins_num)\n",
    "    hist = np.bincount(new_data.ravel(), minlength=bins_num)\n",
    "    return hist, bins"
   ]
  },
  {
   "cell_type": "code",
   "execution_count": null,
   "metadata": {},
   "outputs": [],
   "source": [
    "image1_bgr = cv2.imread('src/Images/Lenna_512.png')\n",
    "image1_rgb = cv2.cvtColor(image1_bgr, cv2.COLOR_BGR2RGB)\n",
    "image1_gray = cv2.cvtColor(image1_bgr, cv2.COLOR_BGR2GRAY)\n",
    "image1_size = image1_rgb.shape[0] * image1_rgb.shape[1]\n",
    "\n",
    "image2_bgr = cv2.imread('src/Images/hand_256.png')\n",
    "image2_gray = cv2.cvtColor(image2_bgr, cv2.COLOR_BGR2GRAY)\n",
    "\n",
    "norm_img = np.zeros((image1_rgb.shape[0], image1_rgb.shape[1]))\n",
    "final_img = cv2.normalize(image1_rgb,  norm_img, 0, 255, cv2.NORM_MINMAX)\n",
    "\n",
    "# show original image\n",
    "plt.subplot(121)\n",
    "plt.imshow(image1_rgb)\n",
    "plt.title('Original Image')\n",
    "plt.set_cmap('gray')\n",
    "\n",
    "# show Normalized image\n",
    "plt.subplot(122)\n",
    "plt.imshow(final_img)\n",
    "plt.title('Normalized Image')\n",
    "plt.set_cmap('gray')\n",
    "plt.show()"
   ]
  },
  {
   "cell_type": "code",
   "execution_count": null,
   "metadata": {},
   "outputs": [],
   "source": [
    "hist, bins = histogram(data=image1_rgb, bins_num=255)\n",
    "plt.hist(image1_rgb.ravel(), bins=255, fc='k', ec='k')\n",
    "plt.show()"
   ]
  },
  {
   "cell_type": "code",
   "execution_count": null,
   "metadata": {},
   "outputs": [],
   "source": [
    "image1_r = image1_rgb[:, :, 0]\n",
    "image1_g = image1_rgb[:, :, 1]\n",
    "image1_b = image1_rgb[:, :, 2]"
   ]
  },
  {
   "cell_type": "code",
   "execution_count": null,
   "metadata": {},
   "outputs": [],
   "source": []
  },
  {
   "cell_type": "code",
   "execution_count": null,
   "metadata": {},
   "outputs": [],
   "source": []
  },
  {
   "cell_type": "code",
   "execution_count": null,
   "metadata": {},
   "outputs": [],
   "source": []
  },
  {
   "cell_type": "code",
   "execution_count": null,
   "metadata": {},
   "outputs": [],
   "source": [
    "# Compute the discrete PDF (Probability distribution function)\n",
    "pr = hist / image1_size\n",
    "\n",
    "# Compute the discrete CDF (Accumulative Histogram)\n",
    "acc = []\n",
    "temp = 0\n",
    "for i in range(256):\n",
    "    temp += pr[i]\n",
    "    acc.append(temp)\n",
    "    \n",
    "acc = np.array(acc) * (image1_rgb.shape[0]-1)\n",
    "sk = np.round(acc)\n",
    "# print(sk)"
   ]
  },
  {
   "cell_type": "code",
   "execution_count": null,
   "metadata": {},
   "outputs": [],
   "source": [
    "# map the pixels values\n",
    "eq_img = np.zeros((256, 256))\n",
    "for i in range(256):\n",
    "    for j in range(256):\n",
    "        eq_img[i][j] = sk[j]\n",
    "\n"
   ]
  },
  {
   "cell_type": "code",
   "execution_count": null,
   "metadata": {},
   "outputs": [],
   "source": []
  },
  {
   "cell_type": "code",
   "execution_count": null,
   "metadata": {},
   "outputs": [],
   "source": [
    "equ = cv2.equalizeHist(image1_gray)\n",
    "\n",
    "# show original Image\n",
    "plt.subplot(121)\n",
    "plt.imshow(image1_gray)\n",
    "plt.title('Original Image')\n",
    "plt.set_cmap('gray')\n",
    "\n",
    "# show Equalized Image\n",
    "plt.subplot(122)\n",
    "plt.imshow(equ)\n",
    "plt.title('Equalized Image')\n",
    "plt.set_cmap('gray')\n",
    "plt.show()\n",
    "\n",
    "# show de7k images\n",
    "plt.subplot(111)\n",
    "plt.imshow(eq_img)\n",
    "plt.title('de7k Image')\n",
    "plt.set_cmap('gray')\n",
    "plt.show()"
   ]
  },
  {
   "cell_type": "code",
   "execution_count": null,
   "metadata": {},
   "outputs": [],
   "source": [
    "plt.hist(equ.ravel(), bins=16, range=[0, 256], fc='k', ec='k')\n",
    "plt.show()\n",
    "\n",
    "plt.hist(eq_img.ravel(), bins=16, range=[0, 256], fc='k', ec='k')\n",
    "plt.show()"
   ]
  },
  {
   "cell_type": "code",
   "execution_count": null,
   "metadata": {},
   "outputs": [],
   "source": [
    "def imhist(im):\n",
    "  # calculates normalized histogram of an image\n",
    "\tm, n = im.shape\n",
    "\th = [0.0] * 256\n",
    "\tfor i in range(m):\n",
    "\t\tfor j in range(n):\n",
    "\t\t\th[im[i, j]]+=1\n",
    "\treturn np.array(h)/(m*n)\n",
    "\n",
    "def cumsum(h):\n",
    "\t# finds cumulative sum of a numpy array, list\n",
    "\treturn [sum(h[:i+1]) for i in range(len(h))]\n",
    "\n",
    "def histeq(im):\n",
    "\t#calculate Histogram\n",
    "\th = imhist(im)\n",
    "\tcdf = np.array(cumsum(h)) #cumulative distribution function\n",
    "\tsk = np.uint8(255 * cdf) #finding transfer function values\n",
    "\ts1, s2 = im.shape\n",
    "\tY = np.zeros_like(im)\n",
    "\t# applying transfered values for each pixels\n",
    "\tfor i in range(0, s1):\n",
    "\t\tfor j in range(0, s2):\n",
    "\t\t\tY[i, j] = sk[im[i, j]]\n",
    "\tH = imhist(Y)\n",
    "\t#return transformed image, original and new istogram, \n",
    "\t# and transform function\n",
    "\treturn Y , h, H, sk"
   ]
  },
  {
   "cell_type": "code",
   "execution_count": null,
   "metadata": {},
   "outputs": [],
   "source": [
    "import pylab as plt\n",
    "import matplotlib.image as mpimg\n",
    "import numpy as np\n",
    "# load image to numpy arrayb\n",
    "# matplotlib 1.3.1 only supports png images\n",
    "# use scipy or PIL for other formats\n",
    "img = np.uint8(mpimg.imread('src/Images/cat256.jpg'))\n",
    "# convert to grayscale\n",
    "# do for individual channels R, G, B, A for nongrayscale images\n",
    "\n",
    "img = np.uint8((0.2126* img[:,:,0]) + \\\n",
    "  \t\tnp.uint8(0.7152 * img[:,:,1]) +\\\n",
    "\t\t\t np.uint8(0.0722 * img[:,:,2]))\n",
    "\n",
    "# use hist module from hist.py to perform histogram equalization\n",
    "new_img, h, new_h, sk = histeq(img)\n",
    "\n",
    "# show old and new image\n",
    "# show original image\n",
    "plt.subplot(121)\n",
    "plt.imshow(img)\n",
    "plt.title('original image')\n",
    "plt.set_cmap('gray')\n",
    "# show original image\n",
    "plt.subplot(122)\n",
    "plt.imshow(new_img)\n",
    "plt.title('hist. equalized image')\n",
    "plt.set_cmap('gray')\n",
    "plt.show()\n",
    "\n",
    "# plot histograms and transfer function\n",
    "fig = plt.figure()\n",
    "fig.add_subplot(221)\n",
    "plt.plot(h)\n",
    "plt.title('Original histogram') # original histogram\n",
    "\n",
    "fig.add_subplot(222)\n",
    "plt.plot(new_h)\n",
    "plt.title('New histogram') #hist of eqlauized image\n",
    "\n",
    "fig.add_subplot(223)\n",
    "plt.plot(sk)\n",
    "plt.title('Transfer function') #transfer function\n",
    "\n",
    "plt.show()"
   ]
  },
  {
   "cell_type": "code",
   "execution_count": null,
   "metadata": {},
   "outputs": [],
   "source": []
  },
  {
   "cell_type": "code",
   "execution_count": null,
   "metadata": {},
   "outputs": [],
   "source": [
    "def threshold_image(data: np.ndarray, threshold: int, type: str = \"global\"):\n",
    "    if type == \"global\":\n",
    "        return (data > threshold).astype(int)\n",
    "    \n",
    "    elif type == \"local\":\n",
    "        pass\n",
    "\n",
    "\n",
    "def normalize_image(data: np.ndarray, value: int):\n",
    "    data = data / value\n",
    "    print('Min: %.3f, Max: %.3f' % (data.min(), data.max()))\n",
    "    return data"
   ]
  },
  {
   "cell_type": "code",
   "execution_count": null,
   "metadata": {},
   "outputs": [],
   "source": [
    "out_threshold = threshold_image(img, 130)\n",
    "out_threshold"
   ]
  },
  {
   "cell_type": "code",
   "execution_count": null,
   "metadata": {},
   "outputs": [],
   "source": [
    "imgplot = plt.imshow(out_threshold, cmap=\"gray\")"
   ]
  },
  {
   "cell_type": "code",
   "execution_count": null,
   "metadata": {},
   "outputs": [],
   "source": [
    "plt.hist(out_threshold.ravel())\n",
    "plt.show()"
   ]
  },
  {
   "cell_type": "code",
   "execution_count": null,
   "metadata": {},
   "outputs": [],
   "source": [
    "print(img.dtype)\n",
    "out_norm = normalize_image(img, 220)\n",
    "out_norm\n",
    "# new_data = np.round(np.interp(out_norm, (out_norm.min(), out_norm.max()), (0, 255))).astype('uint8')"
   ]
  },
  {
   "cell_type": "code",
   "execution_count": null,
   "metadata": {},
   "outputs": [],
   "source": [
    "plt.imshow(img, cmap=\"gray\")"
   ]
  },
  {
   "cell_type": "code",
   "execution_count": null,
   "metadata": {},
   "outputs": [],
   "source": [
    "print(out_norm)\n",
    "plt.imshow(out_norm, cmap=\"gray\")"
   ]
  },
  {
   "cell_type": "code",
   "execution_count": null,
   "metadata": {},
   "outputs": [],
   "source": [
    "ar = np.array(img).astype(np.float32)\n",
    "mn = np.min(ar)\n",
    "mx = np.max(ar)\n",
    "norm = (ar - mn) * (1.0 / (mx - mn))\n",
    "norm"
   ]
  },
  {
   "cell_type": "code",
   "execution_count": null,
   "metadata": {},
   "outputs": [],
   "source": [
    "plt.imshow(norm, cmap=\"gray\")"
   ]
  },
  {
   "cell_type": "code",
   "execution_count": null,
   "metadata": {},
   "outputs": [],
   "source": []
  },
  {
   "cell_type": "code",
   "execution_count": null,
   "metadata": {},
   "outputs": [],
   "source": [
    "# techniques on the input image\n",
    "thresh1 = cv2.adaptiveThreshold(image1_gray, 255, cv2.ADAPTIVE_THRESH_MEAN_C,\n",
    "                                          cv2.THRESH_BINARY, 199, 5)\n",
    "  \n",
    "thresh2 = cv2.adaptiveThreshold(image1_gray, 255, cv2.ADAPTIVE_THRESH_GAUSSIAN_C,\n",
    "                                          cv2.THRESH_BINARY, 199, 5)\n",
    "\n",
    "# show original image\n",
    "plt.subplot(121)\n",
    "plt.imshow(thresh1)\n",
    "plt.title('thresh1')\n",
    "plt.set_cmap('gray')\n",
    "\n",
    "# show original image\n",
    "plt.subplot(122)\n",
    "plt.imshow(thresh2)\n",
    "plt.title('thresh2')\n",
    "plt.set_cmap('gray')\n",
    "plt.show()"
   ]
  },
  {
   "cell_type": "markdown",
   "metadata": {},
   "source": [
    "# RGB TO GRAY"
   ]
  },
  {
   "cell_type": "code",
   "execution_count": null,
   "metadata": {},
   "outputs": [],
   "source": [
    "def rgb_to_gray(data: np.ndarray):\n",
    "#     gray_img = np.zeros((data.shape[0], data.shape[1]))\n",
    "    \n",
    "    return np.dot(data[..., :3], [0.299, 0.587, 0.114])\n",
    "        \n",
    "#     for i in range(data.shape[0]):\n",
    "#         gray_img[i] = np.round((data[i][0][0] + data[i][0][0] + data[i][0][0]) / 3)\n",
    "        \n",
    "#     return gray_img"
   ]
  },
  {
   "cell_type": "code",
   "execution_count": null,
   "metadata": {},
   "outputs": [],
   "source": [
    "img_bgr = cv2.imread('src/Images/Lenna_512.png')\n",
    "img_rgb = cv2.cvtColor(img_bgr, cv2.COLOR_BGR2RGB)\n",
    "\n",
    "gray = rgb_to_gray(img_rgb)\n",
    "gray"
   ]
  },
  {
   "cell_type": "code",
   "execution_count": null,
   "metadata": {},
   "outputs": [],
   "source": [
    "# show original image\n",
    "plt.subplot(121)\n",
    "plt.imshow(img_rgb)\n",
    "plt.title('RGB')\n",
    "# plt.set_cmap('gray')\n",
    "\n",
    "# show original image\n",
    "plt.subplot(122)\n",
    "plt.imshow(gray)\n",
    "plt.title('GRAY')\n",
    "# plt.set_cmap('gray')\n",
    "plt.show()"
   ]
  },
  {
   "cell_type": "code",
   "execution_count": null,
   "metadata": {},
   "outputs": [],
   "source": [
    "block_image = image1_gray[:256, :256]\n",
    "print(block_image)\n",
    "print(block_image.shape)\n",
    "\n",
    "# show blocked image\n",
    "plt.subplot(121)\n",
    "plt.imshow(block_image)\n",
    "plt.title('block_image')\n",
    "plt.set_cmap('gray')\n",
    "plt.show()"
   ]
  },
  {
   "cell_type": "code",
   "execution_count": null,
   "metadata": {},
   "outputs": [],
   "source": [
    "size = 256\n",
    "blocks_num = (image1_gray.shape[0] // size) * 2\n",
    "print(f\"Blocks: {blocks_num}\")\n",
    "\n",
    "all_images = []\n",
    "\n",
    "for i in range(blocks_num // 2):\n",
    "    for j in range(blocks_num // 2):\n",
    "        print(f\"Block From {i*size} to {(j+1)*size}\")\n",
    "        \n",
    "        block_image = image1_gray[j*size:(j+1)*size, i*size:(i+1)*size]\n",
    "        # 0 [0:256   , 0:256]\n",
    "        # 1 [256:512 , 0:256]\n",
    "        \n",
    "        # 2 []\n",
    "        # 3 []\n",
    "        \n",
    "        all_images.append(block_image)\n",
    "        \n",
    "# for i in range(0, image1_gray.shape[0], size):\n",
    "#     for j in range(0, image1_gray.shape[1], size):\n",
    "#         print(f\"Block From {i} to {(size)*k}\")\n",
    "#         block_image = image1_gray[j:size*(k), j:size*(k)]\n",
    "#         all_images.append(block_image)\n",
    "#         k += 1\n",
    "    \n",
    "print(len(all_images))\n",
    "\n",
    "# for i in range(0, blocks_num):\n",
    "#     plt.imshow(all_images[i])\n",
    "#     plt.title('block_image')\n",
    "#     plt.set_cmap('gray')\n",
    "#     plt.show()"
   ]
  },
  {
   "cell_type": "code",
   "execution_count": null,
   "metadata": {},
   "outputs": [],
   "source": []
  },
  {
   "cell_type": "code",
   "execution_count": null,
   "metadata": {},
   "outputs": [],
   "source": []
  }
 ],
 "metadata": {
  "kernelspec": {
   "display_name": "Python 3",
   "language": "python",
   "name": "python3"
  },
  "language_info": {
   "codemirror_mode": {
    "name": "ipython",
    "version": 3
   },
   "file_extension": ".py",
   "mimetype": "text/x-python",
   "name": "python",
   "nbconvert_exporter": "python",
   "pygments_lexer": "ipython3",
   "version": "3.7.4"
  }
 },
 "nbformat": 4,
 "nbformat_minor": 1
}
